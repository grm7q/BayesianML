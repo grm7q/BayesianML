{
 "cells": [
  {
   "cell_type": "code",
   "execution_count": 8,
   "metadata": {},
   "outputs": [],
   "source": [
    "import numpy as np\n",
    "from scipy.stats import binom"
   ]
  },
  {
   "cell_type": "code",
   "execution_count": 17,
   "metadata": {},
   "outputs": [
    {
     "name": "stdout",
     "output_type": "stream",
     "text": [
      "0.00011281697127222492\n"
     ]
    }
   ],
   "source": [
    "# Comoute the likelihood for a type A coin\n",
    "k = 68\n",
    "N = 100\n",
    "p = 0.5\n",
    "likelihood_A = binom.pmf(k, N, p)\n",
    "print(likelihood_A)"
   ]
  },
  {
   "cell_type": "code",
   "execution_count": 18,
   "metadata": {},
   "outputs": [
    {
     "name": "stdout",
     "output_type": "stream",
     "text": [
      "0.02475256392905903\n"
     ]
    }
   ],
   "source": [
    "# Comoute the likelihood for a type B coin\n",
    "k = 68\n",
    "N = 100\n",
    "p = 0.75\n",
    "likelihood_B = binom.pmf(k, N, p)\n",
    "print(likelihood_B)"
   ]
  },
  {
   "cell_type": "code",
   "execution_count": 11,
   "metadata": {},
   "outputs": [
    {
     "name": "stdout",
     "output_type": "stream",
     "text": [
      "0.06976854622494563\n"
     ]
    }
   ],
   "source": [
    "# Comoute the likelihood for a type C coin\n",
    "k = 68\n",
    "N = 100\n",
    "p = 0.6\n",
    "likelihood_C = binom.pmf(k, N, p)\n",
    "print(likelihood_C)"
   ]
  },
  {
   "cell_type": "code",
   "execution_count": 14,
   "metadata": {},
   "outputs": [],
   "source": [
    "# Create variables for the priors\n",
    "prior_A = 0.998\n",
    "prior_B = 0.001\n",
    "prior_C = 0.001"
   ]
  },
  {
   "cell_type": "code",
   "execution_count": 15,
   "metadata": {},
   "outputs": [
    {
     "name": "stdout",
     "output_type": "stream",
     "text": [
      "0.00020711244748368516\n"
     ]
    }
   ],
   "source": [
    "# Compute the total probability\n",
    "total_probabilty = likelihood_A*prior_A + likelihood_B*prior_B + likelihood_C*prior_C\n",
    "print(total_probabilty)"
   ]
  },
  {
   "cell_type": "code",
   "execution_count": 16,
   "metadata": {},
   "outputs": [
    {
     "name": "stdout",
     "output_type": "stream",
     "text": [
      "0.5436241939951466\n",
      "0.11951268129844712\n",
      "0.33686312470640617\n"
     ]
    }
   ],
   "source": [
    "# Compute the posterior probabilities\n",
    "probability_type_A = likelihood_A*prior_A/total_probabilty\n",
    "print(probability_type_A)\n",
    "probability_type_B = likelihood_B*prior_B/total_probabilty\n",
    "print(probability_type_B)\n",
    "probability_type_C = likelihood_C*prior_C/total_probabilty\n",
    "print(probability_type_C)"
   ]
  },
  {
   "cell_type": "code",
   "execution_count": 7,
   "metadata": {},
   "outputs": [
    {
     "name": "stdout",
     "output_type": "stream",
     "text": [
      "[0.8388211 0.1611789]\n"
     ]
    }
   ],
   "source": [
    "# Same computation, but using vectors\n",
    "likelihoods = np.asarray([likelihood_A,likelihood_B])\n",
    "priors = np.asarray([prior_A,prior_B])\n",
    "posterior_probabilities = likelihoods*priors/total_probabilty\n",
    "print(posterior_probabilities)"
   ]
  }
 ],
 "metadata": {
  "kernelspec": {
   "display_name": "Python 3",
   "language": "python",
   "name": "python3"
  },
  "language_info": {
   "codemirror_mode": {
    "name": "ipython",
    "version": 3
   },
   "file_extension": ".py",
   "mimetype": "text/x-python",
   "name": "python",
   "nbconvert_exporter": "python",
   "pygments_lexer": "ipython3",
   "version": "3.7.0"
  }
 },
 "nbformat": 4,
 "nbformat_minor": 4
}
