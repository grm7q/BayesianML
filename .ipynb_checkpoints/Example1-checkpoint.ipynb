{
 "cells": [
  {
   "cell_type": "markdown",
   "metadata": {},
   "source": [
    "1. Compute the marginal distributions P(X) and P(Y)."
   ]
  },
  {
   "cell_type": "code",
   "execution_count": 1,
   "metadata": {},
   "outputs": [],
   "source": [
    "import numpy as np\n",
    "import matplotlib.pyplot as plt"
   ]
  },
  {
   "cell_type": "code",
   "execution_count": 2,
   "metadata": {},
   "outputs": [
    {
     "name": "stdout",
     "output_type": "stream",
     "text": [
      "[[0.1  0.2  0.05 0.05 0.1 ]\n",
      " [0.15 0.05 0.   0.1  0.2 ]]\n"
     ]
    }
   ],
   "source": [
    "# Build the matrix M which will hold our joint probability distribution, and print M\n",
    "M = np.asarray([[0.1,0.2,0.05,0.05,0.1],[0.15,0.05,0,0.1,0.2]])\n",
    "print(M)"
   ]
  },
  {
   "cell_type": "code",
   "execution_count": 3,
   "metadata": {},
   "outputs": [
    {
     "name": "stdout",
     "output_type": "stream",
     "text": [
      "The distribution P(X) is [0.5 0.5].\n",
      "The distribution P(Y) is [0.25 0.25 0.05 0.15 0.3 ].\n"
     ]
    }
   ],
   "source": [
    "# Compute the marginal probabilities\n",
    "P_Y = np.sum(M,axis=0)\n",
    "P_X = np.sum(M,axis=1)\n",
    "print('The distribution P(X) is '+str(P_X)+'.')\n",
    "print('The distribution P(Y) is '+str(P_Y)+'.')"
   ]
  },
  {
   "cell_type": "code",
   "execution_count": 4,
   "metadata": {},
   "outputs": [
    {
     "data": {
      "image/png": "[encoded data removed]",
      "text/plain": [
       "<Figure size 432x288 with 2 Axes>"
      ]
     },
     "metadata": {
      "needs_background": "light"
     },
     "output_type": "display_data"
    }
   ],
   "source": [
    "# Create a bar plot to show the distribution P(Y).\n",
    "# We use a bar plot here instead of a line plot because the distribution is discrete.\n",
    "\n",
    "# Plot of the marginal distribution P(Y)\n",
    "plt.subplot(1, 2, 1) # layout to make 1 row, 2 columns of plots, and create to the 1st location.\n",
    "dom_Y = [1,2,3,4,5]\n",
    "plt.bar(dom_Y,P_Y)\n",
    "plt.title('Marginal Distribution P(Y)');\n",
    "plt.xlabel('Y');\n",
    "plt.ylabel('Probablity');\n",
    "\n",
    "# Plot of the marginal distribution P(X)\n",
    "plt.subplot(1, 2, 2) # layout to make 1 row, 2 columns of plots, and create to the 2nd location.\n",
    "dom_X = ['A','B']\n",
    "plt.bar(dom_X,P_X)\n",
    "plt.title('Marginal Distribution P(X)');\n",
    "plt.xlabel('X');\n",
    "plt.ylabel('Probablity');\n",
    "plt.tight_layout() # this cleans up the spacing for plots and labels."
   ]
  },
  {
   "cell_type": "markdown",
   "metadata": {},
   "source": [
    "2. What is the value of the conditional probability P(X = A|Y = 2)? Compute the distribution P(X|Y=2)."
   ]
  },
  {
   "cell_type": "code",
   "execution_count": 5,
   "metadata": {},
   "outputs": [
    {
     "name": "stdout",
     "output_type": "stream",
     "text": [
      "P(X = A|Y = 2) = 0.8\n"
     ]
    }
   ],
   "source": [
    "cond_prob = M[0,1]/P_Y[1]\n",
    "print('P(X = A|Y = 2) = '+str(cond_prob))"
   ]
  },
  {
   "cell_type": "code",
   "execution_count": 6,
   "metadata": {},
   "outputs": [
    {
     "name": "stdout",
     "output_type": "stream",
     "text": [
      "P(X|Y = 2) = [0.8 0.2]\n"
     ]
    }
   ],
   "source": [
    "cond_prob_dist = M[:,1]/P_Y[1]\n",
    "print('P(X|Y = 2) = '+str(cond_prob_dist))"
   ]
  },
  {
   "cell_type": "markdown",
   "metadata": {},
   "source": [
    "3. Are the variables X and Y independent?  Why or why not?"
   ]
  },
  {
   "cell_type": "code",
   "execution_count": 7,
   "metadata": {},
   "outputs": [
    {
     "name": "stdout",
     "output_type": "stream",
     "text": [
      "The are not independent because P(X=A|Y=2) = 0.8 while P(X=A) = 0.5.\n"
     ]
    }
   ],
   "source": [
    "print('The are not independent because P(X=A|Y=2) = 0.8 while P(X=A) = 0.5.')"
   ]
  }
 ],
 "metadata": {
  "kernelspec": {
   "display_name": "Python 3",
   "language": "python",
   "name": "python3"
  },
  "language_info": {
   "codemirror_mode": {
    "name": "ipython",
    "version": 3
   },
   "file_extension": ".py",
   "mimetype": "text/x-python",
   "name": "python",
   "nbconvert_exporter": "python",
   "pygments_lexer": "ipython3",
   "version": "3.7.0"
  }
 },
 "nbformat": 4,
 "nbformat_minor": 4
}
