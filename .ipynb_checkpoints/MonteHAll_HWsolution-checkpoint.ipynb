{
 "cells": [
  {
   "cell_type": "code",
   "execution_count": 12,
   "metadata": {},
   "outputs": [
    {
     "name": "stdout",
     "output_type": "stream",
     "text": [
      "[0.6563885530028214, 0.6679726542198057]\n",
      "[0.3243350535926955, 0.33538539382695226]\n"
     ]
    }
   ],
   "source": [
    "# This is a simulation of repeating the Monte Hall problem with randomly selected strategies.\n",
    "\n",
    "import numpy as np\n",
    "doors = [0,1,2]\n",
    "results = {'switch wins': 0, 'switch losses': 0, 'stay wins': 0, 'stay losses': 0,}\n",
    "rsw = np.zeros(50)\n",
    "rst = np.zeros(50)\n",
    "for idx in range(50):\n",
    "    for i in range(10000):\n",
    "        # choose a strategy at random\n",
    "        strategy = np.random.choice(['switch','stay'])\n",
    "        # car location is chosen randomly\n",
    "        Car_location = np.random.choice([0,1,2])\n",
    "        # contestant makes a random choice\n",
    "        Contestant_Choice = np.random.choice([0,1,2])\n",
    "        # Host reveals a door:\n",
    "        remaining_doors = [door for door in doors if door not in (Car_location, Contestant_Choice)]\n",
    "        Host_door = np.random.choice(remaining_doors)\n",
    "\n",
    "        # switch doors if this is the strategy\n",
    "        if strategy == 'switch':\n",
    "            Contestant_Choice = [door for door in doors if door not in (Contestant_Choice, Host_door)]\n",
    "\n",
    "        # determine if we won or not\n",
    "        if Contestant_Choice == Car_location:\n",
    "            if strategy == 'switch':\n",
    "                results['switch wins'] = results['switch wins'] + 1\n",
    "            else:\n",
    "                results['stay wins'] = results['stay wins'] + 1\n",
    "        else:\n",
    "            if strategy == 'switch':\n",
    "                results['switch losses'] = results['switch losses'] + 1\n",
    "            else:\n",
    "                results['stay losses'] = results['stay losses'] + 1\n",
    "\n",
    "    rsw[idx] = results['switch wins']/(results['switch wins']+results['switch losses'])\n",
    "    rst[idx] = results['stay wins']/(results['stay wins']+results['stay losses'])\n",
    "\n",
    "print([np.min(rsw),np.max(rsw)])\n",
    "print([np.min(rst),np.max(rst)])"
   ]
  }
 ],
 "metadata": {
  "kernelspec": {
   "display_name": "Python 3",
   "language": "python",
   "name": "python3"
  },
  "language_info": {
   "codemirror_mode": {
    "name": "ipython",
    "version": 3
   },
   "file_extension": ".py",
   "mimetype": "text/x-python",
   "name": "python",
   "nbconvert_exporter": "python",
   "pygments_lexer": "ipython3",
   "version": "3.7.0"
  }
 },
 "nbformat": 4,
 "nbformat_minor": 4
}
