{
 "cells": [
  {
   "cell_type": "code",
   "execution_count": 4,
   "metadata": {},
   "outputs": [
    {
     "name": "stdout",
     "output_type": "stream",
     "text": [
      "Strategy: stay and you win!\n",
      "Strategy: stay and you get a goat.\n",
      "Strategy: switch and you get a goat.\n",
      "Strategy: switch and you win!\n",
      "Strategy: stay and you get a goat.\n"
     ]
    }
   ],
   "source": [
    "# This is a simulation of repeating the Monte Hall problem with randomly selected strategies.\n",
    "\n",
    "import numpy as np\n",
    "doors = [0,1,2]\n",
    "\n",
    "for i in range(5):\n",
    "    # choose a strategy at random\n",
    "    strategy = np.random.choice(['switch','stay'])\n",
    "    # car location is chosen randomly\n",
    "    Car_location = np.random.choice([0,1,2])\n",
    "    # contestant makes a random choice\n",
    "    Contestant_Choice = np.random.choice([0,1,2])\n",
    "    # Host reveals a door:\n",
    "    remaining_doors = [door for door in doors if door not in (Car_location, Contestant_Choice)]\n",
    "    Host_door = np.random.choice(remaining_doors)\n",
    "    \n",
    "    # switch doors if this is the strategy\n",
    "    if strategy == 'switch':\n",
    "        Contestant_Choice = [door for door in doors if door not in (Contestant_Choice, Host_door)]\n",
    "    \n",
    "    # determine if we won or not\n",
    "    if Contestant_Choice == Car_location:\n",
    "        print('Strategy: '+strategy+' and you win!')\n",
    "    else:\n",
    "        print('Strategy: '+strategy+' and you get a goat.')\n",
    "    "
   ]
  }
 ],
 "metadata": {
  "kernelspec": {
   "display_name": "Python 3",
   "language": "python",
   "name": "python3"
  },
  "language_info": {
   "codemirror_mode": {
    "name": "ipython",
    "version": 3
   },
   "file_extension": ".py",
   "mimetype": "text/x-python",
   "name": "python",
   "nbconvert_exporter": "python",
   "pygments_lexer": "ipython3",
   "version": "3.7.0"
  }
 },
 "nbformat": 4,
 "nbformat_minor": 4
}
